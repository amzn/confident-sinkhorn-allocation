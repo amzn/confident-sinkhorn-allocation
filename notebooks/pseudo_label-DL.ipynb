{
 "cells": [
  {
   "cell_type": "code",
   "execution_count": 1,
   "metadata": {
    "Collapsed": "false"
   },
   "outputs": [],
   "source": [
    "%matplotlib inline\n",
    "from MulticoreTSNE import MulticoreTSNE as TSNE\n",
    "from matplotlib import pyplot as plt\n",
    "import torch\n",
    "from torchvision import datasets, transforms\n",
    "from torch import nn\n",
    "import torch.nn.functional as F\n",
    "import numpy as np\n",
    "\n",
    "torch.manual_seed(42)\n",
    "np.random.seed(42)\n",
    "torch.backends.cudnn.deterministic = True\n",
    "torch.backends.cudnn.benchmark = False"
   ]
  },
  {
   "cell_type": "code",
   "execution_count": 3,
   "metadata": {
    "Collapsed": "false"
   },
   "outputs": [],
   "source": [
    "import pandas as pd \n",
    "\n",
    "UNLABELED_BS = 256\n",
    "TRAIN_BS = 32\n",
    "TEST_BS = 1024\n",
    "\n",
    "num_train_samples = 1000\n",
    "samples_per_class = int(num_train_samples/9)\n",
    "\n",
    "x = pd.read_csv('data/mnist_train.csv')\n",
    "y = x['label']\n",
    "x.drop(['label'], inplace = True, axis = 1)\n",
    "\n",
    "x_test = pd.read_csv('data/mnist_test.csv')\n",
    "y_test = x_test['label']\n",
    "x_test.drop(['label'], inplace = True, axis = 1)"
   ]
  },
  {
   "cell_type": "markdown",
   "metadata": {
    "Collapsed": "false"
   },
   "source": [
    "Now, lets divide the dataset into train and unlabeled sets. For the train set we'll make sure that we have equal samples for all the 10 classes. (class-balancing)\n",
    "\n",
    "We wont use the labels for the unlabeled set."
   ]
  },
  {
   "cell_type": "code",
   "execution_count": 4,
   "metadata": {
    "Collapsed": "false"
   },
   "outputs": [],
   "source": [
    "x_train, x_unlabeled = x[y.values == 0].values[:samples_per_class], x[y.values == 0].values[samples_per_class:]\n",
    "y_train = y[y.values == 0].values[:samples_per_class]\n",
    "\n",
    "for i in range(1,10):\n",
    "    x_train = np.concatenate([x_train, x[y.values == i].values[:samples_per_class]], axis = 0)\n",
    "    y_train = np.concatenate([y_train, y[y.values == i].values[:samples_per_class]], axis = 0)\n",
    "    \n",
    "    x_unlabeled = np.concatenate([x_unlabeled, x[y.values == i].values[samples_per_class:]], axis = 0)"
   ]
  },
  {
   "cell_type": "markdown",
   "metadata": {
    "Collapsed": "false"
   },
   "source": [
    "Next, we'll normalize the data, convert it into tensors and create the dataloaders for train, unlabeled and test sets. "
   ]
  },
  {
   "cell_type": "code",
   "execution_count": 5,
   "metadata": {
    "Collapsed": "false"
   },
   "outputs": [],
   "source": [
    "from sklearn.preprocessing import Normalizer\n",
    "\n",
    "normalizer = Normalizer()\n",
    "x_train = normalizer.fit_transform(x_train)\n",
    "x_unlabeled = normalizer.transform(x_unlabeled)\n",
    "x_test = normalizer.transform(x_test.values)"
   ]
  },
  {
   "cell_type": "code",
   "execution_count": 6,
   "metadata": {
    "Collapsed": "false"
   },
   "outputs": [],
   "source": [
    "x_train = torch.from_numpy(x_train).type(torch.FloatTensor)\n",
    "y_train = torch.from_numpy(y_train).type(torch.LongTensor) \n",
    "\n",
    "x_test = torch.from_numpy(x_test).type(torch.FloatTensor)\n",
    "y_test = torch.from_numpy(y_test.values).type(torch.LongTensor) "
   ]
  },
  {
   "cell_type": "code",
   "execution_count": 7,
   "metadata": {
    "Collapsed": "false"
   },
   "outputs": [],
   "source": [
    "train = torch.utils.data.TensorDataset(x_train, y_train)\n",
    "test = torch.utils.data.TensorDataset(x_test, y_test)\n",
    "\n",
    "train_loader = torch.utils.data.DataLoader(train, batch_size = TRAIN_BS, shuffle = True, num_workers = 8)\n",
    "\n",
    "unlabeled_train = torch.from_numpy(x_unlabeled).type(torch.FloatTensor)\n",
    "\n",
    "unlabeled = torch.utils.data.TensorDataset(unlabeled_train)\n",
    "unlabeled_loader = torch.utils.data.DataLoader(unlabeled, batch_size = UNLABELED_BS, shuffle = True, num_workers = 8)\n",
    "\n",
    "test_loader = torch.utils.data.DataLoader(test, batch_size = TEST_BS, shuffle = True, num_workers = 8)"
   ]
  },
  {
   "cell_type": "markdown",
   "metadata": {
    "Collapsed": "false"
   },
   "source": [
    "### Network Architecture\n",
    "\n",
    "We'll use a simple 2 layer Conv + 2 FC layer network with dropouts."
   ]
  },
  {
   "cell_type": "code",
   "execution_count": 8,
   "metadata": {
    "Collapsed": "false"
   },
   "outputs": [],
   "source": [
    "# Architecture from : https://github.com/peimengsui/semi_supervised_mnist\n",
    "class Net(nn.Module):\n",
    "        def __init__(self):\n",
    "            super(Net, self).__init__()\n",
    "            self.conv1 = nn.Conv2d(1, 20, kernel_size=5)\n",
    "            self.conv2 = nn.Conv2d(20, 40, kernel_size=5)\n",
    "            self.conv2_drop = nn.Dropout2d()\n",
    "            self.fc1 = nn.Linear(640, 150)\n",
    "            self.fc2 = nn.Linear(150, 10)\n",
    "            self.log_softmax = nn.LogSoftmax(dim = 1)\n",
    "\n",
    "        def forward(self, x):\n",
    "            x = x.view(-1,1,28,28)\n",
    "            x = F.relu(F.max_pool2d(self.conv1(x), 2))\n",
    "            x = F.relu(F.max_pool2d(self.conv2_drop(self.conv2(x)), 2))\n",
    "            x = x.view(-1, 640)\n",
    "            x = F.relu(self.fc1(x))\n",
    "            x = F.dropout(x, training=self.training)\n",
    "            x = F.relu(self.fc2(x))\n",
    "            x = self.log_softmax(x)\n",
    "            return x\n",
    "        \n",
    "net = Net().cuda()"
   ]
  },
  {
   "cell_type": "markdown",
   "metadata": {
    "Collapsed": "false"
   },
   "source": [
    "Now let's define a function to evaluate the network and get loss and accuracy values. "
   ]
  },
  {
   "cell_type": "code",
   "execution_count": 9,
   "metadata": {
    "Collapsed": "false"
   },
   "outputs": [],
   "source": [
    "def evaluate(model, test_loader):\n",
    "    model.eval()\n",
    "    correct = 0 \n",
    "    loss = 0\n",
    "    with torch.no_grad():\n",
    "        for data, labels in test_loader:\n",
    "            data = data.cuda()\n",
    "            output = model(data)\n",
    "            predicted = torch.max(output,1)[1]\n",
    "            correct += (predicted == labels.cuda()).sum()\n",
    "            loss += F.nll_loss(output, labels.cuda()).item()\n",
    "\n",
    "    return (float(correct)/len(test)) *100, (loss/len(test_loader))"
   ]
  },
  {
   "cell_type": "markdown",
   "metadata": {
    "Collapsed": "false"
   },
   "source": [
    "First, let's train the model on the labeled set for 300 epochs"
   ]
  },
  {
   "cell_type": "code",
   "execution_count": 10,
   "metadata": {
    "Collapsed": "false"
   },
   "outputs": [],
   "source": [
    "from tqdm import tqdm_notebook\n",
    "def train_supervised(model, train_loader, test_loader):\n",
    "    optimizer = torch.optim.SGD( model.parameters(), lr = 0.1)\n",
    "    EPOCHS = 100\n",
    "    model.train()\n",
    "    for epoch in tqdm_notebook(range(EPOCHS)):\n",
    "        correct = 0\n",
    "        running_loss = 0\n",
    "        for batch_idx, (X_batch, y_batch) in enumerate(train_loader):\n",
    "            X_batch, y_batch = X_batch.cuda(), y_batch.cuda()\n",
    "            \n",
    "            output = model(X_batch)\n",
    "            labeled_loss = F.nll_loss(output, y_batch)\n",
    "                       \n",
    "            optimizer.zero_grad()\n",
    "            labeled_loss.backward()\n",
    "            optimizer.step()\n",
    "            running_loss += labeled_loss.item()\n",
    "        \n",
    "        if epoch %10 == 0:\n",
    "            test_acc, test_loss = evaluate(model, test_loader)\n",
    "            print('Epoch: {} : Train Loss : {:.5f} | Test Acc : {:.5f} | Test Loss : {:.3f} '.format(epoch, running_loss/(10 * len(train)), test_acc, test_loss))\n",
    "            model.train()\n",
    "    "
   ]
  },
  {
   "cell_type": "code",
   "execution_count": 11,
   "metadata": {
    "Collapsed": "false"
   },
   "outputs": [
    {
     "data": {
      "application/vnd.jupyter.widget-view+json": {
       "model_id": "ca16c55be32944fb873de7476cd7877f",
       "version_major": 2,
       "version_minor": 0
      },
      "text/plain": [
       "HBox(children=(IntProgress(value=0), HTML(value='')))"
      ]
     },
     "metadata": {},
     "output_type": "display_data"
    },
    {
     "name": "stdout",
     "output_type": "stream",
     "text": [
      "Epoch: 0 : Train Loss : 0.00726 | Test Acc : 12.74000 | Test Loss : 2.302 \n",
      "Epoch: 10 : Train Loss : 0.00725 | Test Acc : 29.54000 | Test Loss : 2.297 \n",
      "Epoch: 20 : Train Loss : 0.00528 | Test Acc : 55.26000 | Test Loss : 1.436 \n",
      "Epoch: 30 : Train Loss : 0.00154 | Test Acc : 87.87000 | Test Loss : 0.410 \n",
      "Epoch: 40 : Train Loss : 0.00102 | Test Acc : 92.41000 | Test Loss : 0.246 \n",
      "Epoch: 50 : Train Loss : 0.00076 | Test Acc : 93.89000 | Test Loss : 0.207 \n",
      "Epoch: 60 : Train Loss : 0.00060 | Test Acc : 93.95000 | Test Loss : 0.194 \n",
      "Epoch: 70 : Train Loss : 0.00048 | Test Acc : 94.25000 | Test Loss : 0.189 \n",
      "Epoch: 80 : Train Loss : 0.00038 | Test Acc : 94.42000 | Test Loss : 0.188 \n",
      "Epoch: 90 : Train Loss : 0.00034 | Test Acc : 94.61000 | Test Loss : 0.190 \n",
      "\n"
     ]
    }
   ],
   "source": [
    "train_supervised(net, train_loader, test_loader)"
   ]
  },
  {
   "cell_type": "code",
   "execution_count": 13,
   "metadata": {
    "Collapsed": "false"
   },
   "outputs": [
    {
     "name": "stdout",
     "output_type": "stream",
     "text": [
      "Test Acc : 94.91000 | Test Loss : 0.188 \n"
     ]
    }
   ],
   "source": [
    "test_acc, test_loss = evaluate(net, test_loader)\n",
    "print('Test Acc : {:.5f} | Test Loss : {:.3f} '.format(test_acc, test_loss))\n",
    "torch.save(net.state_dict(), 'saved_models/supervised_weights')"
   ]
  },
  {
   "cell_type": "code",
   "execution_count": 11,
   "metadata": {
    "Collapsed": "false"
   },
   "outputs": [
    {
     "data": {
      "text/plain": [
       "<All keys matched successfully>"
      ]
     },
     "execution_count": 11,
     "metadata": {},
     "output_type": "execute_result"
    }
   ],
   "source": [
    "net.load_state_dict(torch.load('saved_models/supervised_weights'))"
   ]
  },
  {
   "cell_type": "code",
   "execution_count": 14,
   "metadata": {
    "Collapsed": "false"
   },
   "outputs": [],
   "source": [
    "T1 = 100\n",
    "T2 = 700\n",
    "af = 3\n",
    "\n",
    "def alpha_weight(epoch):\n",
    "    if epoch < T1:\n",
    "        return 0.0\n",
    "    elif epoch > T2:\n",
    "        return af\n",
    "    else:\n",
    "         return ((epoch-T1) / (T2-T1))*af"
   ]
  },
  {
   "cell_type": "code",
   "execution_count": 15,
   "metadata": {
    "Collapsed": "false"
   },
   "outputs": [],
   "source": [
    "# Concept from : https://github.com/peimengsui/semi_supervised_mnist\n",
    "\n",
    "from tqdm import tqdm_notebook\n",
    "\n",
    "acc_scores = []\n",
    "unlabel = []\n",
    "pseudo_label = []\n",
    "\n",
    "alpha_log = []\n",
    "test_acc_log = []\n",
    "test_loss_log = []\n",
    "def semisup_train(model, train_loader, unlabeled_loader, test_loader):\n",
    "    optimizer = torch.optim.SGD(model.parameters(), lr = 0.1)\n",
    "    EPOCHS = 150\n",
    "    \n",
    "    # Instead of using current epoch we use a \"step\" variable to calculate alpha_weight\n",
    "    # This helps the model converge faster\n",
    "    step = 100 \n",
    "    \n",
    "    model.train()\n",
    "    for epoch in tqdm_notebook(range(EPOCHS)):\n",
    "        for batch_idx, x_unlabeled in enumerate(unlabeled_loader):\n",
    "            \n",
    "            \n",
    "            # Forward Pass to get the pseudo labels\n",
    "            x_unlabeled = x_unlabeled[0].cuda()\n",
    "            model.eval()\n",
    "            output_unlabeled = model(x_unlabeled)\n",
    "            _, pseudo_labeled = torch.max(output_unlabeled, 1)\n",
    "            model.train()\n",
    "            \n",
    "            \n",
    "            \"\"\" ONLY FOR VISUALIZATION\"\"\"\n",
    "            if (batch_idx < 3) and (epoch % 10 == 0):\n",
    "                unlabel.append(x_unlabeled.cpu())\n",
    "                pseudo_label.append(pseudo_labeled.cpu())\n",
    "            \"\"\" ********************** \"\"\"\n",
    "            \n",
    "            # Now calculate the unlabeled loss using the pseudo label\n",
    "            output = model(x_unlabeled)\n",
    "            unlabeled_loss = alpha_weight(step) * F.nll_loss(output, pseudo_labeled)   \n",
    "            \n",
    "            # Backpropogate\n",
    "            optimizer.zero_grad()\n",
    "            unlabeled_loss.backward()\n",
    "            optimizer.step()\n",
    "            \n",
    "            \n",
    "            # For every 50 batches train one epoch on labeled data \n",
    "            if batch_idx % 50 == 0:\n",
    "                \n",
    "                # Normal training procedure\n",
    "                for batch_idx, (X_batch, y_batch) in enumerate(train_loader):\n",
    "                    X_batch = X_batch.cuda()\n",
    "                    y_batch = y_batch.cuda()\n",
    "                    output = model(X_batch)\n",
    "                    labeled_loss = F.nll_loss(output, y_batch)\n",
    "\n",
    "                    optimizer.zero_grad()\n",
    "                    labeled_loss.backward()\n",
    "                    optimizer.step()\n",
    "                \n",
    "                # Now we increment step by 1\n",
    "                step += 1\n",
    "                \n",
    "\n",
    "        test_acc, test_loss =evaluate(model, test_loader)\n",
    "        print('Epoch: {} : Alpha Weight : {:.5f} | Test Acc : {:.5f} | Test Loss : {:.3f} '.format(epoch, alpha_weight(step), test_acc, test_loss))\n",
    "        \n",
    "        \"\"\" LOGGING VALUES \"\"\"\n",
    "        alpha_log.append(alpha_weight(step))\n",
    "        test_acc_log.append(test_acc/100)\n",
    "        test_loss_log.append(test_loss)\n",
    "        \"\"\" ************** \"\"\"\n",
    "        model.train()\n",
    " "
   ]
  },
  {
   "cell_type": "code",
   "execution_count": 16,
   "metadata": {
    "Collapsed": "false"
   },
   "outputs": [
    {
     "data": {
      "application/vnd.jupyter.widget-view+json": {
       "model_id": "7a0e527451814223a49a8601ebc009d2",
       "version_major": 2,
       "version_minor": 0
      },
      "text/plain": [
       "HBox(children=(IntProgress(value=0, max=150), HTML(value='')))"
      ]
     },
     "metadata": {},
     "output_type": "display_data"
    },
    {
     "name": "stdout",
     "output_type": "stream",
     "text": [
      "Epoch: 0 : Alpha Weight : 0.02500 | Test Acc : 95.05000 | Test Loss : 0.192 \n",
      "Epoch: 1 : Alpha Weight : 0.05000 | Test Acc : 95.07000 | Test Loss : 0.189 \n",
      "Epoch: 2 : Alpha Weight : 0.07500 | Test Acc : 94.99000 | Test Loss : 0.197 \n",
      "Epoch: 3 : Alpha Weight : 0.10000 | Test Acc : 95.08000 | Test Loss : 0.192 \n",
      "Epoch: 4 : Alpha Weight : 0.12500 | Test Acc : 95.22000 | Test Loss : 0.192 \n",
      "Epoch: 5 : Alpha Weight : 0.15000 | Test Acc : 95.24000 | Test Loss : 0.183 \n",
      "Epoch: 6 : Alpha Weight : 0.17500 | Test Acc : 95.35000 | Test Loss : 0.187 \n",
      "Epoch: 7 : Alpha Weight : 0.20000 | Test Acc : 95.25000 | Test Loss : 0.181 \n",
      "Epoch: 8 : Alpha Weight : 0.22500 | Test Acc : 95.39000 | Test Loss : 0.180 \n",
      "Epoch: 9 : Alpha Weight : 0.25000 | Test Acc : 95.42000 | Test Loss : 0.175 \n",
      "Epoch: 10 : Alpha Weight : 0.27500 | Test Acc : 95.63000 | Test Loss : 0.171 \n",
      "Epoch: 11 : Alpha Weight : 0.30000 | Test Acc : 95.71000 | Test Loss : 0.171 \n",
      "Epoch: 12 : Alpha Weight : 0.32500 | Test Acc : 95.98000 | Test Loss : 0.158 \n",
      "Epoch: 13 : Alpha Weight : 0.35000 | Test Acc : 95.95000 | Test Loss : 0.159 \n",
      "Epoch: 14 : Alpha Weight : 0.37500 | Test Acc : 95.84000 | Test Loss : 0.163 \n",
      "Epoch: 15 : Alpha Weight : 0.40000 | Test Acc : 95.97000 | Test Loss : 0.154 \n",
      "Epoch: 16 : Alpha Weight : 0.42500 | Test Acc : 96.05000 | Test Loss : 0.158 \n",
      "Epoch: 17 : Alpha Weight : 0.45000 | Test Acc : 96.12000 | Test Loss : 0.155 \n",
      "Epoch: 18 : Alpha Weight : 0.47500 | Test Acc : 96.22000 | Test Loss : 0.154 \n",
      "Epoch: 19 : Alpha Weight : 0.50000 | Test Acc : 96.29000 | Test Loss : 0.147 \n",
      "Epoch: 20 : Alpha Weight : 0.52500 | Test Acc : 96.15000 | Test Loss : 0.150 \n",
      "Epoch: 21 : Alpha Weight : 0.55000 | Test Acc : 96.38000 | Test Loss : 0.145 \n",
      "Epoch: 22 : Alpha Weight : 0.57500 | Test Acc : 96.31000 | Test Loss : 0.145 \n",
      "Epoch: 23 : Alpha Weight : 0.60000 | Test Acc : 96.35000 | Test Loss : 0.141 \n",
      "Epoch: 24 : Alpha Weight : 0.62500 | Test Acc : 96.55000 | Test Loss : 0.137 \n",
      "Epoch: 25 : Alpha Weight : 0.65000 | Test Acc : 96.59000 | Test Loss : 0.134 \n",
      "Epoch: 26 : Alpha Weight : 0.67500 | Test Acc : 96.72000 | Test Loss : 0.135 \n",
      "Epoch: 27 : Alpha Weight : 0.70000 | Test Acc : 96.67000 | Test Loss : 0.132 \n",
      "Epoch: 28 : Alpha Weight : 0.72500 | Test Acc : 96.56000 | Test Loss : 0.135 \n",
      "Epoch: 29 : Alpha Weight : 0.75000 | Test Acc : 96.76000 | Test Loss : 0.129 \n",
      "Epoch: 30 : Alpha Weight : 0.77500 | Test Acc : 96.73000 | Test Loss : 0.133 \n",
      "Epoch: 31 : Alpha Weight : 0.80000 | Test Acc : 96.73000 | Test Loss : 0.134 \n",
      "Epoch: 32 : Alpha Weight : 0.82500 | Test Acc : 96.71000 | Test Loss : 0.128 \n",
      "Epoch: 33 : Alpha Weight : 0.85000 | Test Acc : 96.70000 | Test Loss : 0.135 \n",
      "Epoch: 34 : Alpha Weight : 0.87500 | Test Acc : 96.86000 | Test Loss : 0.127 \n",
      "Epoch: 35 : Alpha Weight : 0.90000 | Test Acc : 96.55000 | Test Loss : 0.132 \n",
      "Epoch: 36 : Alpha Weight : 0.92500 | Test Acc : 96.59000 | Test Loss : 0.132 \n",
      "Epoch: 37 : Alpha Weight : 0.95000 | Test Acc : 96.82000 | Test Loss : 0.126 \n",
      "Epoch: 38 : Alpha Weight : 0.97500 | Test Acc : 97.22000 | Test Loss : 0.116 \n",
      "Epoch: 39 : Alpha Weight : 1.00000 | Test Acc : 97.10000 | Test Loss : 0.118 \n",
      "Epoch: 40 : Alpha Weight : 1.02500 | Test Acc : 96.48000 | Test Loss : 0.144 \n",
      "Epoch: 41 : Alpha Weight : 1.05000 | Test Acc : 96.91000 | Test Loss : 0.131 \n",
      "Epoch: 42 : Alpha Weight : 1.07500 | Test Acc : 97.08000 | Test Loss : 0.115 \n",
      "Epoch: 43 : Alpha Weight : 1.10000 | Test Acc : 97.15000 | Test Loss : 0.117 \n",
      "Epoch: 44 : Alpha Weight : 1.12500 | Test Acc : 97.18000 | Test Loss : 0.112 \n",
      "Epoch: 45 : Alpha Weight : 1.15000 | Test Acc : 97.15000 | Test Loss : 0.115 \n",
      "Epoch: 46 : Alpha Weight : 1.17500 | Test Acc : 97.26000 | Test Loss : 0.110 \n",
      "Epoch: 47 : Alpha Weight : 1.20000 | Test Acc : 97.14000 | Test Loss : 0.110 \n",
      "Epoch: 48 : Alpha Weight : 1.22500 | Test Acc : 97.27000 | Test Loss : 0.110 \n",
      "Epoch: 49 : Alpha Weight : 1.25000 | Test Acc : 97.47000 | Test Loss : 0.108 \n",
      "Epoch: 50 : Alpha Weight : 1.27500 | Test Acc : 97.10000 | Test Loss : 0.118 \n",
      "Epoch: 51 : Alpha Weight : 1.30000 | Test Acc : 97.23000 | Test Loss : 0.115 \n",
      "Epoch: 52 : Alpha Weight : 1.32500 | Test Acc : 97.32000 | Test Loss : 0.105 \n",
      "Epoch: 53 : Alpha Weight : 1.35000 | Test Acc : 97.17000 | Test Loss : 0.112 \n",
      "Epoch: 54 : Alpha Weight : 1.37500 | Test Acc : 97.47000 | Test Loss : 0.107 \n",
      "Epoch: 55 : Alpha Weight : 1.40000 | Test Acc : 97.44000 | Test Loss : 0.110 \n",
      "Epoch: 56 : Alpha Weight : 1.42500 | Test Acc : 97.36000 | Test Loss : 0.106 \n",
      "Epoch: 57 : Alpha Weight : 1.45000 | Test Acc : 97.54000 | Test Loss : 0.107 \n",
      "Epoch: 58 : Alpha Weight : 1.47500 | Test Acc : 97.52000 | Test Loss : 0.106 \n",
      "Epoch: 59 : Alpha Weight : 1.50000 | Test Acc : 97.52000 | Test Loss : 0.102 \n",
      "Epoch: 60 : Alpha Weight : 1.52500 | Test Acc : 97.63000 | Test Loss : 0.100 \n",
      "Epoch: 61 : Alpha Weight : 1.55000 | Test Acc : 97.54000 | Test Loss : 0.106 \n",
      "Epoch: 62 : Alpha Weight : 1.57500 | Test Acc : 97.58000 | Test Loss : 0.101 \n",
      "Epoch: 63 : Alpha Weight : 1.60000 | Test Acc : 97.25000 | Test Loss : 0.111 \n",
      "Epoch: 64 : Alpha Weight : 1.62500 | Test Acc : 97.56000 | Test Loss : 0.100 \n",
      "Epoch: 65 : Alpha Weight : 1.65000 | Test Acc : 97.29000 | Test Loss : 0.102 \n",
      "Epoch: 66 : Alpha Weight : 1.67500 | Test Acc : 97.69000 | Test Loss : 0.097 \n",
      "Epoch: 67 : Alpha Weight : 1.70000 | Test Acc : 97.72000 | Test Loss : 0.097 \n",
      "Epoch: 68 : Alpha Weight : 1.72500 | Test Acc : 97.72000 | Test Loss : 0.097 \n",
      "Epoch: 69 : Alpha Weight : 1.75000 | Test Acc : 97.63000 | Test Loss : 0.094 \n",
      "Epoch: 70 : Alpha Weight : 1.77500 | Test Acc : 97.74000 | Test Loss : 0.092 \n",
      "Epoch: 71 : Alpha Weight : 1.80000 | Test Acc : 97.73000 | Test Loss : 0.096 \n",
      "Epoch: 72 : Alpha Weight : 1.82500 | Test Acc : 96.21000 | Test Loss : 0.138 \n",
      "Epoch: 73 : Alpha Weight : 1.85000 | Test Acc : 97.75000 | Test Loss : 0.090 \n",
      "Epoch: 74 : Alpha Weight : 1.87500 | Test Acc : 95.25000 | Test Loss : 0.157 \n",
      "Epoch: 75 : Alpha Weight : 1.90000 | Test Acc : 97.92000 | Test Loss : 0.089 \n",
      "Epoch: 76 : Alpha Weight : 1.92500 | Test Acc : 98.01000 | Test Loss : 0.088 \n",
      "Epoch: 77 : Alpha Weight : 1.95000 | Test Acc : 97.84000 | Test Loss : 0.089 \n",
      "Epoch: 78 : Alpha Weight : 1.97500 | Test Acc : 97.66000 | Test Loss : 0.096 \n",
      "Epoch: 79 : Alpha Weight : 2.00000 | Test Acc : 97.91000 | Test Loss : 0.088 \n",
      "Epoch: 80 : Alpha Weight : 2.02500 | Test Acc : 97.95000 | Test Loss : 0.082 \n",
      "Epoch: 81 : Alpha Weight : 2.05000 | Test Acc : 97.73000 | Test Loss : 0.090 \n",
      "Epoch: 82 : Alpha Weight : 2.07500 | Test Acc : 97.83000 | Test Loss : 0.091 \n",
      "Epoch: 83 : Alpha Weight : 2.10000 | Test Acc : 97.98000 | Test Loss : 0.083 \n",
      "Epoch: 84 : Alpha Weight : 2.12500 | Test Acc : 97.85000 | Test Loss : 0.088 \n",
      "Epoch: 85 : Alpha Weight : 2.15000 | Test Acc : 97.94000 | Test Loss : 0.085 \n",
      "Epoch: 86 : Alpha Weight : 2.17500 | Test Acc : 97.54000 | Test Loss : 0.102 \n",
      "Epoch: 87 : Alpha Weight : 2.20000 | Test Acc : 98.01000 | Test Loss : 0.083 \n",
      "Epoch: 88 : Alpha Weight : 2.22500 | Test Acc : 97.99000 | Test Loss : 0.087 \n",
      "Epoch: 89 : Alpha Weight : 2.25000 | Test Acc : 97.89000 | Test Loss : 0.089 \n",
      "Epoch: 90 : Alpha Weight : 2.27500 | Test Acc : 97.97000 | Test Loss : 0.083 \n",
      "Epoch: 91 : Alpha Weight : 2.30000 | Test Acc : 97.89000 | Test Loss : 0.091 \n",
      "Epoch: 92 : Alpha Weight : 2.32500 | Test Acc : 98.02000 | Test Loss : 0.085 \n",
      "Epoch: 93 : Alpha Weight : 2.35000 | Test Acc : 98.05000 | Test Loss : 0.082 \n",
      "Epoch: 94 : Alpha Weight : 2.37500 | Test Acc : 96.84000 | Test Loss : 0.133 \n",
      "Epoch: 95 : Alpha Weight : 2.40000 | Test Acc : 97.94000 | Test Loss : 0.087 \n",
      "Epoch: 96 : Alpha Weight : 2.42500 | Test Acc : 97.99000 | Test Loss : 0.086 \n",
      "Epoch: 97 : Alpha Weight : 2.45000 | Test Acc : 98.00000 | Test Loss : 0.083 \n",
      "Epoch: 98 : Alpha Weight : 2.47500 | Test Acc : 98.12000 | Test Loss : 0.080 \n",
      "Epoch: 99 : Alpha Weight : 2.50000 | Test Acc : 97.95000 | Test Loss : 0.091 \n",
      "Epoch: 100 : Alpha Weight : 2.52500 | Test Acc : 98.08000 | Test Loss : 0.083 \n",
      "Epoch: 101 : Alpha Weight : 2.55000 | Test Acc : 96.73000 | Test Loss : 0.132 \n",
      "Epoch: 102 : Alpha Weight : 2.57500 | Test Acc : 98.05000 | Test Loss : 0.080 \n",
      "Epoch: 103 : Alpha Weight : 2.60000 | Test Acc : 97.83000 | Test Loss : 0.087 \n",
      "Epoch: 104 : Alpha Weight : 2.62500 | Test Acc : 98.13000 | Test Loss : 0.082 \n",
      "Epoch: 105 : Alpha Weight : 2.65000 | Test Acc : 98.12000 | Test Loss : 0.078 \n",
      "Epoch: 106 : Alpha Weight : 2.67500 | Test Acc : 98.08000 | Test Loss : 0.082 \n",
      "Epoch: 107 : Alpha Weight : 2.70000 | Test Acc : 97.73000 | Test Loss : 0.094 \n",
      "Epoch: 108 : Alpha Weight : 2.72500 | Test Acc : 97.92000 | Test Loss : 0.086 \n",
      "Epoch: 109 : Alpha Weight : 2.75000 | Test Acc : 98.17000 | Test Loss : 0.082 \n",
      "Epoch: 110 : Alpha Weight : 2.77500 | Test Acc : 98.21000 | Test Loss : 0.081 \n",
      "Epoch: 111 : Alpha Weight : 2.80000 | Test Acc : 98.21000 | Test Loss : 0.075 \n",
      "Epoch: 112 : Alpha Weight : 2.82500 | Test Acc : 98.08000 | Test Loss : 0.081 \n",
      "Epoch: 113 : Alpha Weight : 2.85000 | Test Acc : 74.14000 | Test Loss : 0.813 \n",
      "Epoch: 114 : Alpha Weight : 2.87500 | Test Acc : 98.17000 | Test Loss : 0.078 \n",
      "Epoch: 115 : Alpha Weight : 2.90000 | Test Acc : 98.08000 | Test Loss : 0.075 \n",
      "Epoch: 116 : Alpha Weight : 2.92500 | Test Acc : 98.05000 | Test Loss : 0.083 \n",
      "Epoch: 117 : Alpha Weight : 2.95000 | Test Acc : 97.94000 | Test Loss : 0.088 \n",
      "Epoch: 118 : Alpha Weight : 2.97500 | Test Acc : 98.19000 | Test Loss : 0.075 \n",
      "Epoch: 119 : Alpha Weight : 3.00000 | Test Acc : 98.17000 | Test Loss : 0.079 \n",
      "Epoch: 120 : Alpha Weight : 3.00000 | Test Acc : 98.02000 | Test Loss : 0.080 \n",
      "Epoch: 121 : Alpha Weight : 3.00000 | Test Acc : 98.16000 | Test Loss : 0.077 \n",
      "Epoch: 122 : Alpha Weight : 3.00000 | Test Acc : 98.10000 | Test Loss : 0.080 \n",
      "Epoch: 123 : Alpha Weight : 3.00000 | Test Acc : 97.52000 | Test Loss : 0.112 \n",
      "Epoch: 124 : Alpha Weight : 3.00000 | Test Acc : 98.26000 | Test Loss : 0.077 \n",
      "Epoch: 125 : Alpha Weight : 3.00000 | Test Acc : 98.04000 | Test Loss : 0.083 \n",
      "Epoch: 126 : Alpha Weight : 3.00000 | Test Acc : 98.19000 | Test Loss : 0.081 \n",
      "Epoch: 127 : Alpha Weight : 3.00000 | Test Acc : 98.20000 | Test Loss : 0.074 \n",
      "Epoch: 128 : Alpha Weight : 3.00000 | Test Acc : 98.14000 | Test Loss : 0.076 \n",
      "Epoch: 129 : Alpha Weight : 3.00000 | Test Acc : 98.24000 | Test Loss : 0.075 \n",
      "Epoch: 130 : Alpha Weight : 3.00000 | Test Acc : 97.48000 | Test Loss : 0.110 \n",
      "Epoch: 131 : Alpha Weight : 3.00000 | Test Acc : 98.32000 | Test Loss : 0.075 \n",
      "Epoch: 132 : Alpha Weight : 3.00000 | Test Acc : 98.33000 | Test Loss : 0.074 \n",
      "Epoch: 133 : Alpha Weight : 3.00000 | Test Acc : 98.38000 | Test Loss : 0.075 \n",
      "Epoch: 134 : Alpha Weight : 3.00000 | Test Acc : 98.24000 | Test Loss : 0.080 \n",
      "Epoch: 135 : Alpha Weight : 3.00000 | Test Acc : 98.30000 | Test Loss : 0.074 \n",
      "Epoch: 136 : Alpha Weight : 3.00000 | Test Acc : 98.27000 | Test Loss : 0.079 \n",
      "Epoch: 137 : Alpha Weight : 3.00000 | Test Acc : 98.30000 | Test Loss : 0.078 \n",
      "Epoch: 138 : Alpha Weight : 3.00000 | Test Acc : 98.35000 | Test Loss : 0.073 \n",
      "Epoch: 139 : Alpha Weight : 3.00000 | Test Acc : 98.29000 | Test Loss : 0.078 \n",
      "Epoch: 140 : Alpha Weight : 3.00000 | Test Acc : 98.31000 | Test Loss : 0.078 \n",
      "Epoch: 141 : Alpha Weight : 3.00000 | Test Acc : 98.29000 | Test Loss : 0.075 \n",
      "Epoch: 142 : Alpha Weight : 3.00000 | Test Acc : 98.35000 | Test Loss : 0.075 \n",
      "Epoch: 143 : Alpha Weight : 3.00000 | Test Acc : 98.32000 | Test Loss : 0.075 \n",
      "Epoch: 144 : Alpha Weight : 3.00000 | Test Acc : 98.07000 | Test Loss : 0.083 \n",
      "Epoch: 145 : Alpha Weight : 3.00000 | Test Acc : 98.21000 | Test Loss : 0.080 \n",
      "Epoch: 146 : Alpha Weight : 3.00000 | Test Acc : 98.39000 | Test Loss : 0.074 \n",
      "Epoch: 147 : Alpha Weight : 3.00000 | Test Acc : 98.34000 | Test Loss : 0.072 \n",
      "Epoch: 148 : Alpha Weight : 3.00000 | Test Acc : 98.40000 | Test Loss : 0.072 \n",
      "Epoch: 149 : Alpha Weight : 3.00000 | Test Acc : 98.02000 | Test Loss : 0.077 \n",
      "\n"
     ]
    }
   ],
   "source": [
    "semisup_train(net, train_loader, unlabeled_loader, test_loader)"
   ]
  },
  {
   "cell_type": "code",
   "execution_count": 17,
   "metadata": {
    "Collapsed": "false"
   },
   "outputs": [
    {
     "name": "stdout",
     "output_type": "stream",
     "text": [
      "Test Acc : 98.02000 | Test Loss : 0.077 \n"
     ]
    }
   ],
   "source": [
    "test_acc, test_loss = evaluate(net, test_loader)\n",
    "print('Test Acc : {:.5f} | Test Loss : {:.3f} '.format(test_acc, test_loss))\n",
    "torch.save(net.state_dict(), 'saved_models/semi_supervised_weights')"
   ]
  },
  {
   "cell_type": "markdown",
   "metadata": {
    "Collapsed": "false"
   },
   "source": [
    "## Visualizations"
   ]
  },
  {
   "cell_type": "code",
   "execution_count": 15,
   "metadata": {
    "Collapsed": "false"
   },
   "outputs": [],
   "source": [
    "unlabel = np.concatenate([u.cpu().numpy() for u in unlabel])\n",
    "pseudo_label = np.concatenate([u.cpu().numpy() for u in pseudo_label])"
   ]
  },
  {
   "cell_type": "code",
   "execution_count": 17,
   "metadata": {
    "Collapsed": "false"
   },
   "outputs": [],
   "source": [
    "x = pd.read_csv('data/mnist_train.csv')\n",
    "y = x['label']\n",
    "x.drop(['label'], inplace = True, axis = 1)\n",
    "\n",
    "x = normalizer.transform(x.values)\n",
    "\n",
    "tsne_x = np.concatenate([x, x_train, unlabel])\n",
    "tsne_y = np.concatenate([y.values, y_train, pseudo_label])\n",
    "\n",
    "embeddings = TSNE(perplexity = 30, n_jobs=-1, verbose = 1, n_iter = 500).fit_transform(tsne_x)"
   ]
  },
  {
   "cell_type": "code",
   "execution_count": 21,
   "metadata": {
    "Collapsed": "false"
   },
   "outputs": [
    {
     "name": "stdout",
     "output_type": "stream",
     "text": [
      "Using matplotlib backend: GTK3Agg\n"
     ]
    },
    {
     "data": {
      "application/vnd.jupyter.widget-view+json": {
       "model_id": "7bf931bf279b493388e547b56aae4b26",
       "version_major": 2,
       "version_minor": 0
      },
      "text/plain": [
       "HBox(children=(IntProgress(value=0, max=10), HTML(value='')))"
      ]
     },
     "metadata": {},
     "output_type": "display_data"
    },
    {
     "name": "stdout",
     "output_type": "stream",
     "text": [
      "\n"
     ]
    }
   ],
   "source": [
    "from tqdm import tqdm_notebook\n",
    "%matplotlib\n",
    "plt.figure(figsize=(15,10))\n",
    "\n",
    "step_size = UNLABELED_BS * 3\n",
    "base_index = x.shape[0]\n",
    "epoch = 0\n",
    "for i in tqdm_notebook(range(0,unlabel.shape[0], step_size)):\n",
    "    plt.scatter(embeddings[:base_index, 0], embeddings[:base_index, 1], c=tsne_y[:base_index], cmap=plt.cm.get_cmap(\"jet\", 10), marker='s', alpha = 0.002, s = 14**2)\n",
    "    a = base_index\n",
    "    b = base_index + num_train_samples\n",
    "    plt.scatter(embeddings[a:b, 0], embeddings[a:b, 1], c=tsne_y[a:b], cmap=plt.cm.get_cmap(\"jet\", 10), marker='o', alpha = 0.3, s = 90**1)\n",
    "    a = base_index + num_train_samples + i\n",
    "    b = base_index + num_train_samples + i + step_size\n",
    "    plt.scatter(embeddings[a:b, 0], embeddings[a:b, 1], c=tsne_y[a:b], cmap=plt.cm.get_cmap(\"jet\", 10), marker='*', s = 150**1)\n",
    "    plt.colorbar(ticks=range(10))\n",
    "    plt.clim(-0.5, 9.5)\n",
    "    plt.title('Epoch : ' + str(epoch) +'  Test Acc : {:.2f}%'.format(test_acc_log[epoch]*100), fontsize = 20)\n",
    "    plt.savefig('imgs/tsne' + str(i) + '.png')\n",
    "    plt.draw()\n",
    "    plt.pause(5)\n",
    "    plt.clf()\n",
    "    epoch += 10\n"
   ]
  }
 ],
 "metadata": {
  "kernelspec": {
   "display_name": "Python 3",
   "language": "python",
   "name": "python3"
  },
  "language_info": {
   "codemirror_mode": {
    "name": "ipython",
    "version": 3
   },
   "file_extension": ".py",
   "mimetype": "text/x-python",
   "name": "python",
   "nbconvert_exporter": "python",
   "pygments_lexer": "ipython3",
   "version": "3.8.11"
  }
 },
 "nbformat": 4,
 "nbformat_minor": 4
}
