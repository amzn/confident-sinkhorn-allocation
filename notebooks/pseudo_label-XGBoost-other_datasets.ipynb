{
 "cells": [
  {
   "cell_type": "code",
   "execution_count": 1,
   "metadata": {
    "Collapsed": "false"
   },
   "outputs": [],
   "source": [
    "import pandas as pd \n",
    "import numpy as np\n",
    "from sklearn.metrics import accuracy_score\n",
    "from sklearn.datasets import load_iris,load_breast_cancer,load_digits\n",
    "from sklearn.model_selection import train_test_split\n",
    "\n",
    "\n",
    "#data = load_iris()\n",
    "#data=load_breast_cancer()\n",
    "data=load_digits()\n",
    "\n",
    "num_train_samples = 100\n",
    "#samples_per_class = int(num_train_samples/10)\n",
    "samples_per_class=1\n",
    "\n",
    "#x = pd.read_csv('data/mnist_train.csv').sample(frac = 1)\n",
    "\n",
    "#print(data)\n",
    "x=data['data']\n",
    "y = data['target']\n",
    "\n",
    "# 30% train 70%test\n",
    "x_train, x_test, y_train, y_test = train_test_split(x, y, test_size=0.7, random_state=42)\n",
    "\n",
    "# 25% train 25% unlabelled\n",
    "x_train, x_unlabeled, y_train, y_unlabeled = train_test_split(x_train, y_train, test_size=0.5, random_state=42)\n",
    "\n"
   ]
  },
  {
   "cell_type": "raw",
   "metadata": {
    "Collapsed": "false"
   },
   "source": [
    "x_train, x_unlabeled = x[y.values == 0].values[:samples_per_class], x[y.values == 0].values[samples_per_class: ]\n",
    "y_train, y_unlabeled = y[y.values == 0].values[:samples_per_class], y[y.values == 0].values[samples_per_class: ]\n",
    "\n",
    "\n",
    "for i in range(1,10):\n",
    "    x_train = np.concatenate([x_train, x[y.values == i].values[:samples_per_class]], axis = 0)\n",
    "    y_train = np.concatenate([y_train, y[y.values == i].values[:samples_per_class]], axis = 0)\n",
    "    \n",
    "    x_unlabeled = np.concatenate([x_unlabeled, x[y.values == i].values[samples_per_class: ]], axis = 0)\n",
    "    y_unlabeled = np.concatenate([y_unlabeled, y[y.values == i].values[samples_per_class: ]], axis = 0)"
   ]
  },
  {
   "cell_type": "markdown",
   "metadata": {
    "Collapsed": "false"
   },
   "source": [
    "Shuffle the data"
   ]
  },
  {
   "cell_type": "code",
   "execution_count": 2,
   "metadata": {
    "Collapsed": "false"
   },
   "outputs": [],
   "source": [
    "p = np.random.permutation(x_train.shape[0])\n",
    "x_train, y_train = x_train[p], y_train[p]\n",
    "\n",
    "p = np.random.permutation(x_unlabeled.shape[0])\n",
    "x_unlabeled, y_unlabeled = x_unlabeled[p], y_unlabeled[p]"
   ]
  },
  {
   "cell_type": "markdown",
   "metadata": {
    "Collapsed": "false"
   },
   "source": [
    "## Feature Engineering"
   ]
  },
  {
   "cell_type": "raw",
   "metadata": {
    "Collapsed": "false"
   },
   "source": [
    "from sklearn.preprocessing import Normalizer\n",
    "scaler = Normalizer()\n",
    "x_train = scaler.fit_transform(x_train)\n",
    "x_test = scaler.transform(x_test)\n",
    "x_unlabeled = scaler.transform(x_unlabeled)\n",
    "\n"
   ]
  },
  {
   "cell_type": "markdown",
   "metadata": {
    "Collapsed": "false"
   },
   "source": [
    "# from sklearn.decomposition import PCA\n",
    "\n",
    "pca = PCA(n_components = 50)\n",
    "x_train_pca = pca.fit_transform(x_train)\n",
    "x_test_pca = pca.transform(x_test)\n",
    "x_unlabeled_pca = pca.transform(x_unlabeled)\n",
    "\n"
   ]
  },
  {
   "cell_type": "raw",
   "metadata": {
    "Collapsed": "false"
   },
   "source": [
    "from sklearn.preprocessing import PolynomialFeatures\n",
    "\n",
    "poly = PolynomialFeatures()\n",
    "x_train_poly = poly.fit_transform(x_train_pca)\n",
    "x_test_poly = poly.transform(x_test_pca)\n",
    "x_unlabeled_poly = poly.transform(x_unlabeled_pca)\n",
    "\n"
   ]
  },
  {
   "cell_type": "markdown",
   "metadata": {
    "Collapsed": "false"
   },
   "source": [
    "## Effect of Increasing Data"
   ]
  },
  {
   "cell_type": "raw",
   "metadata": {
    "Collapsed": "false"
   },
   "source": [
    "%matplotlib inline \n",
    "import matplotlib.pyplot as plt\n",
    "\n",
    "num_samples = list(range(100, x_train_poly.shape[0], 50))\n",
    "plt.plot(num_samples, accuracy_log)\n",
    "plt.xlabel('Number of Samples')\n",
    "plt.ylabel('Accuracy')\n",
    "plt.title('Effect of Increased Dataset size')\n",
    "plt.show()"
   ]
  },
  {
   "cell_type": "markdown",
   "metadata": {
    "Collapsed": "false"
   },
   "source": [
    "## Baseline Estimates"
   ]
  },
  {
   "cell_type": "raw",
   "metadata": {
    "Collapsed": "false"
   },
   "source": [
    "from sklearn.linear_model import SGDClassifier\n",
    "from sklearn.metrics import accuracy_score\n",
    "\n",
    "\n",
    "test_acc = []\n",
    "for _ in range(10):\n",
    "    log_reg  = SGDClassifier(loss = 'log', n_jobs = -1, alpha = 1e-5)\n",
    "    log_reg.fit(x_train_poly, y_train)\n",
    "    y_test_pred = log_reg.predict(x_test_poly)\n",
    "    test_acc.append(accuracy_score(y_test_pred, y_test))\n",
    "    \n",
    "    \n",
    "print('Test Accuracy: {:.2f}%'.format(np.array(test_acc).mean()*100))"
   ]
  },
  {
   "cell_type": "markdown",
   "metadata": {
    "Collapsed": "false"
   },
   "source": [
    "## Semi-Supervised Training"
   ]
  },
  {
   "cell_type": "code",
   "execution_count": 3,
   "metadata": {
    "Collapsed": "false"
   },
   "outputs": [],
   "source": [
    "# Concept similar to : https://www.analyticsvidhya.com/blog/2017/09/pseudo-labelling-semi-supervised-learning-technique/\n",
    "\n",
    "class pseudo_labeling():\n",
    "    \n",
    "    def __init__(self, model, unlabelled_data, x_test_poly,y_test,\n",
    "                 sample_rate=0.01, upper_threshold = 0.6, lower_threshold = 0.4, verbose = False):\n",
    "        \n",
    "        self.x_test=x_test_poly\n",
    "        self.y_test=y_test\n",
    "       \n",
    "        self.sample_rate = sample_rate\n",
    "        self.model = model\n",
    "        self.unlabelled_data = unlabelled_data\n",
    "        self.verbose = verbose\n",
    "        self.upper_threshold = upper_threshold\n",
    "        self.lower_threshold = lower_threshold\n",
    "        \n",
    "        # create a list of all the indices \n",
    "        self.unlabelled_indices = list(range(unlabelled_data.shape[0]))      \n",
    "        \n",
    "        # Number of rows to sample in each iteration\n",
    "        self.sample_size = int(unlabelled_data.shape[0] * self.sample_rate)\n",
    "        print(self.sample_size)\n",
    "        print(unlabelled_data.shape[0])\n",
    "        print(self.sample_rate)\n",
    "\n",
    "        # Shuffle the indices\n",
    "        np.random.shuffle(self.unlabelled_indices)\n",
    "\n",
    "    \n",
    "    def __pop_rows(self):\n",
    "        \"\"\"\n",
    "        Function to sample indices without replacement\n",
    "        \"\"\"\n",
    "        chosen_rows = self.unlabelled_indices[:self.sample_size]\n",
    "        \n",
    "        # Remove the chosen rows from the list of indicies (We are sampling w/o replacement)\n",
    "        self.unlabelled_indices = self.unlabelled_indices[self.sample_size:]\n",
    "        return chosen_rows\n",
    "    \n",
    "    \n",
    "    def fit(self, X, y):\n",
    "        \n",
    "        \"\"\"\n",
    "        Perform pseudo labelling\n",
    "        \n",
    "        X: train features\n",
    "        y: train targets\n",
    "        \n",
    "        \"\"\"\n",
    "        \n",
    "        num_iters = int(len(self.unlabelled_indices)/self.sample_size)\n",
    "\n",
    "        for _ in (tqdm(range(num_iters)) if self.verbose else range(num_iters)):\n",
    "            \n",
    "            # Get the samples\n",
    "            chosen_rows = self.__pop_rows()\n",
    "\n",
    "            # Fit to data\n",
    "            self.model.fit(X, y.ravel())\n",
    "            \n",
    "            chosen_unlabelled_rows = self.unlabelled_data[chosen_rows,:]\n",
    "            pseudo_labels_prob = self.model.predict_proba(chosen_unlabelled_rows)\n",
    "            \n",
    "            \n",
    "            # We have 10 classes this means `predict_proba` returns an array of 10 probabilities per datapoint\n",
    "            # We will first find the maximum probability and then find the rows which are within our threshold values\n",
    "            label_probability = np.max(pseudo_labels_prob, axis = 1)\n",
    "            labels_within_threshold = np.where((label_probability < self.lower_threshold) | \n",
    "                                               (label_probability > self.upper_threshold))[0]\n",
    "            \n",
    "            \n",
    "           # Use argmax to find the class with the highest probability\n",
    "            pseudo_labels = np.argmax(pseudo_labels_prob[labels_within_threshold], axis = 1)\n",
    "            chosen_unlabelled_rows = chosen_unlabelled_rows[labels_within_threshold]\n",
    "\n",
    "            # Combine data\n",
    "            X = np.vstack((chosen_unlabelled_rows, X))\n",
    "            y = np.vstack((pseudo_labels.reshape(-1,1), np.array(y).reshape(-1,1)))\n",
    "\n",
    "            # Shuffle \n",
    "            indices = list(range(X.shape[0]))\n",
    "            np.random.shuffle(indices)\n",
    "\n",
    "            X = X[indices]\n",
    "            y = y[indices]     \n",
    "            \n",
    "            y_test_pred = pseudo_labeller.predict(self.x_test)\n",
    "            print('Test Accuracy: {:.2f}%'.format(accuracy_score(y_test_pred, self.y_test)*100))\n",
    "        \n",
    "    def predict(self, X):\n",
    "        return self.model.predict(X)\n",
    "    \n",
    "    def predict_proba(self, X):\n",
    "        return self.model.predict_proba(X)\n",
    "    \n",
    "     \n",
    "    def decision_function(self, X):\n",
    "        return self.model.decision_function(X)\n",
    "\n",
    "    "
   ]
  },
  {
   "cell_type": "code",
   "execution_count": 4,
   "metadata": {
    "Collapsed": "false"
   },
   "outputs": [
    {
     "name": "stdout",
     "output_type": "stream",
     "text": [
      "27\n",
      "270\n",
      "0.1\n"
     ]
    }
   ],
   "source": [
    "from sklearn.linear_model import SGDClassifier \n",
    "from tqdm.notebook import tqdm\n",
    "from xgboost import XGBClassifier\n",
    "\n",
    "param = {}\n",
    "param['booster'] = 'gbtree'\n",
    "param['objective'] = 'binary:logistic'\n",
    "#     param[\"eval_metric\"] = \"error\"\n",
    "#     param['eta'] = 0.5\n",
    "#     param['gamma'] = 0.2\n",
    "#     param['max_depth'] = 3\n",
    "#     param['min_child_weight']=1\n",
    "#     param['max_delta_step'] = 0\n",
    "#     param['subsample']= 0.5\n",
    "#     param['colsample_bytree']=1\n",
    "#     param['verbosity'] = 0\n",
    "#     param['seed'] = 0\n",
    "#     param['base_score'] = 0.5\n",
    "\n",
    "\n",
    "# create XGBoost instance with default hyper-parameters\n",
    "#xgb = XGBClassifier(objective='binary:logistic',verbosity = 0)\n",
    "xgb = XGBClassifier(**param,use_label_encoder=False)\n",
    "\n",
    "\n",
    "log_reg = SGDClassifier(loss = 'log', n_jobs = -1, alpha = 1e-5)\n",
    "\n",
    "\n",
    "pseudo_labeller = pseudo_labeling(\n",
    "        log_reg,\n",
    "        x_unlabeled,\n",
    "        x_test,\n",
    "        y_test, # for evaluation purpose\n",
    "        sample_rate = 0.1,\n",
    "        verbose = True\n",
    "    )"
   ]
  },
  {
   "cell_type": "code",
   "execution_count": 5,
   "metadata": {
    "Collapsed": "false"
   },
   "outputs": [
    {
     "data": {
      "application/vnd.jupyter.widget-view+json": {
       "model_id": "babc322f0dfd404dab7aa5f4ca0b3e91",
       "version_major": 2,
       "version_minor": 0
      },
      "text/plain": [
       "  0%|          | 0/10 [00:00<?, ?it/s]"
      ]
     },
     "metadata": {},
     "output_type": "display_data"
    },
    {
     "name": "stdout",
     "output_type": "stream",
     "text": [
      "Test Accuracy: 88.00%\n",
      "Test Accuracy: 92.21%\n",
      "Test Accuracy: 91.49%\n",
      "Test Accuracy: 91.81%\n",
      "Test Accuracy: 91.97%\n",
      "Test Accuracy: 89.90%\n"
     ]
    },
    {
     "name": "stderr",
     "output_type": "stream",
     "text": [
      "C:\\Users\\Vu Nguyen\\.conda\\envs\\py38\\lib\\site-packages\\sklearn\\linear_model\\_base.py:329: RuntimeWarning: invalid value encountered in true_divide\n",
      "  prob /= prob.sum(axis=1).reshape((prob.shape[0], -1))\n",
      "C:\\Users\\Vu Nguyen\\.conda\\envs\\py38\\lib\\site-packages\\sklearn\\linear_model\\_base.py:329: RuntimeWarning: invalid value encountered in true_divide\n",
      "  prob /= prob.sum(axis=1).reshape((prob.shape[0], -1))\n",
      "C:\\Users\\Vu Nguyen\\.conda\\envs\\py38\\lib\\site-packages\\sklearn\\linear_model\\_base.py:329: RuntimeWarning: invalid value encountered in true_divide\n",
      "  prob /= prob.sum(axis=1).reshape((prob.shape[0], -1))\n",
      "C:\\Users\\Vu Nguyen\\.conda\\envs\\py38\\lib\\site-packages\\sklearn\\linear_model\\_base.py:329: RuntimeWarning: invalid value encountered in true_divide\n",
      "  prob /= prob.sum(axis=1).reshape((prob.shape[0], -1))\n",
      "C:\\Users\\Vu Nguyen\\.conda\\envs\\py38\\lib\\site-packages\\sklearn\\linear_model\\_base.py:329: RuntimeWarning: invalid value encountered in true_divide\n",
      "  prob /= prob.sum(axis=1).reshape((prob.shape[0], -1))\n",
      "C:\\Users\\Vu Nguyen\\.conda\\envs\\py38\\lib\\site-packages\\sklearn\\linear_model\\_base.py:329: RuntimeWarning: invalid value encountered in true_divide\n",
      "  prob /= prob.sum(axis=1).reshape((prob.shape[0], -1))\n",
      "C:\\Users\\Vu Nguyen\\.conda\\envs\\py38\\lib\\site-packages\\sklearn\\linear_model\\_base.py:329: RuntimeWarning: invalid value encountered in true_divide\n",
      "  prob /= prob.sum(axis=1).reshape((prob.shape[0], -1))\n"
     ]
    },
    {
     "name": "stdout",
     "output_type": "stream",
     "text": [
      "Test Accuracy: 90.38%\n",
      "Test Accuracy: 90.70%\n",
      "Test Accuracy: 89.67%\n",
      "Test Accuracy: 91.41%\n"
     ]
    }
   ],
   "source": [
    "pseudo_labeller.fit(x_train, y_train)"
   ]
  },
  {
   "cell_type": "code",
   "execution_count": 6,
   "metadata": {
    "Collapsed": "false"
   },
   "outputs": [
    {
     "name": "stdout",
     "output_type": "stream",
     "text": [
      "Test Accuracy: 91.41%\n"
     ]
    }
   ],
   "source": [
    "y_test_pred = pseudo_labeller.predict(x_test)\n",
    "print('Test Accuracy: {:.2f}%'.format(accuracy_score(y_test_pred, y_test)*100))"
   ]
  }
 ],
 "metadata": {
  "kernelspec": {
   "display_name": "Python 3",
   "language": "python",
   "name": "python3"
  },
  "language_info": {
   "codemirror_mode": {
    "name": "ipython",
    "version": 3
   },
   "file_extension": ".py",
   "mimetype": "text/x-python",
   "name": "python",
   "nbconvert_exporter": "python",
   "pygments_lexer": "ipython3",
   "version": "3.8.11"
  }
 },
 "nbformat": 4,
 "nbformat_minor": 4
}
